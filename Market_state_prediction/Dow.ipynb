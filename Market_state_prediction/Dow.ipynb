{
 "cells": [
  {
   "cell_type": "markdown",
   "metadata": {},
   "source": [
    "# Предсказание состояния рынка на основании заголовков популярных статей\n",
    "# Титков Даниил"
   ]
  },
  {
   "cell_type": "markdown",
   "metadata": {},
   "source": [
    "Цель работы состоит в создании простой модели для предсказания состояния рынка, выраженного в динамике промышленного индекса Доу-Джонса (DJIA). Критерием приемлемости модели будет её превосходство над результатом, полученным с помощью случайного угадывания."
   ]
  },
  {
   "cell_type": "code",
   "execution_count": 1,
   "metadata": {},
   "outputs": [],
   "source": [
    "import re\n",
    "import scipy\n",
    "import pandas as pd\n",
    "import numpy as np\n",
    "import matplotlib.pyplot as plt\n",
    "from sklearn.pipeline import Pipeline\n",
    "from sklearn import metrics\n",
    "from sklearn.feature_extraction.text import CountVectorizer\n",
    "from sklearn.feature_extraction.text import TfidfTransformer, TfidfVectorizer\n",
    "from sklearn.linear_model import LogisticRegression\n",
    "from nltk.stem import WordNetLemmatizer\n",
    "from nltk.tokenize import word_tokenize\n",
    "from tqdm import tqdm \n",
    "\n",
    "from jupyterthemes import jtplot #внешний вид ноутбука и графиков\n",
    "jtplot.style(theme='onedork')\n",
    "%matplotlib inline"
   ]
  },
  {
   "cell_type": "markdown",
   "metadata": {},
   "source": [
    "## Загрузка данных"
   ]
  },
  {
   "cell_type": "code",
   "execution_count": 2,
   "metadata": {},
   "outputs": [
    {
     "data": {
      "text/plain": [
       "(1989, 27)"
      ]
     },
     "execution_count": 2,
     "metadata": {},
     "output_type": "execute_result"
    }
   ],
   "source": [
    "data_inp = pd.read_csv('Combined_News_DJIA.csv')\n",
    "data_inp.shape"
   ]
  },
  {
   "cell_type": "code",
   "execution_count": 3,
   "metadata": {},
   "outputs": [
    {
     "data": {
      "image/png": "[encoded data removed]",
      "text/plain": [
       "<matplotlib.figure.Figure at 0x2a239970e48>"
      ]
     },
     "metadata": {},
     "output_type": "display_data"
    }
   ],
   "source": [
    "data_inp.Label.value_counts().plot(kind='bar')\n",
    "plt.xlabel('Label')\n",
    "plt.ylabel('Наблюдений')\n",
    "plt.suptitle('Частоты бинаризированого DJIA',fontsize=14, fontweight='bold');"
   ]
  },
  {
   "cell_type": "code",
   "execution_count": 4,
   "metadata": {},
   "outputs": [
    {
     "data": {
      "text/html": [
       "<div>\n",
       "<style>\n",
       "    .dataframe thead tr:only-child th {\n",
       "        text-align: right;\n",
       "    }\n",
       "\n",
       "    .dataframe thead th {\n",
       "        text-align: left;\n",
       "    }\n",
       "\n",
       "    .dataframe tbody tr th {\n",
       "        vertical-align: top;\n",
       "    }\n",
       "</style>\n",
       "<table border=\"1\" class=\"dataframe\">\n",
       "  <thead>\n",
       "    <tr style=\"text-align: right;\">\n",
       "      <th></th>\n",
       "      <th>Date</th>\n",
       "      <th>Label</th>\n",
       "      <th>Top1</th>\n",
       "      <th>Top2</th>\n",
       "      <th>Top3</th>\n",
       "      <th>Top4</th>\n",
       "      <th>Top5</th>\n",
       "      <th>Top6</th>\n",
       "      <th>Top7</th>\n",
       "      <th>Top8</th>\n",
       "      <th>...</th>\n",
       "      <th>Top16</th>\n",
       "      <th>Top17</th>\n",
       "      <th>Top18</th>\n",
       "      <th>Top19</th>\n",
       "      <th>Top20</th>\n",
       "      <th>Top21</th>\n",
       "      <th>Top22</th>\n",
       "      <th>Top23</th>\n",
       "      <th>Top24</th>\n",
       "      <th>Top25</th>\n",
       "    </tr>\n",
       "  </thead>\n",
       "  <tbody>\n",
       "    <tr>\n",
       "      <th>0</th>\n",
       "      <td>2008-08-08</td>\n",
       "      <td>0</td>\n",
       "      <td>b\"Georgia 'downs two Russian warplanes' as cou...</td>\n",
       "      <td>b'BREAKING: Musharraf to be impeached.'</td>\n",
       "      <td>b'Russia Today: Columns of troops roll into So...</td>\n",
       "      <td>b'Russian tanks are moving towards the capital...</td>\n",
       "      <td>b\"Afghan children raped with 'impunity,' U.N. ...</td>\n",
       "      <td>b'150 Russian tanks have entered South Ossetia...</td>\n",
       "      <td>b\"Breaking: Georgia invades South Ossetia, Rus...</td>\n",
       "      <td>b\"The 'enemy combatent' trials are nothing but...</td>\n",
       "      <td>...</td>\n",
       "      <td>b'Georgia Invades South Ossetia - if Russia ge...</td>\n",
       "      <td>b'Al-Qaeda Faces Islamist Backlash'</td>\n",
       "      <td>b'Condoleezza Rice: \"The US would not act to p...</td>\n",
       "      <td>b'This is a busy day:  The European Union has ...</td>\n",
       "      <td>b\"Georgia will withdraw 1,000 soldiers from Ir...</td>\n",
       "      <td>b'Why the Pentagon Thinks Attacking Iran is a ...</td>\n",
       "      <td>b'Caucasus in crisis: Georgia invades South Os...</td>\n",
       "      <td>b'Indian shoe manufactory  - And again in a se...</td>\n",
       "      <td>b'Visitors Suffering from Mental Illnesses Ban...</td>\n",
       "      <td>b\"No Help for Mexico's Kidnapping Surge\"</td>\n",
       "    </tr>\n",
       "    <tr>\n",
       "      <th>1</th>\n",
       "      <td>2008-08-11</td>\n",
       "      <td>1</td>\n",
       "      <td>b'Why wont America and Nato help us? If they w...</td>\n",
       "      <td>b'Bush puts foot down on Georgian conflict'</td>\n",
       "      <td>b\"Jewish Georgian minister: Thanks to Israeli ...</td>\n",
       "      <td>b'Georgian army flees in disarray as Russians ...</td>\n",
       "      <td>b\"Olympic opening ceremony fireworks 'faked'\"</td>\n",
       "      <td>b'What were the Mossad with fraudulent New Zea...</td>\n",
       "      <td>b'Russia angered by Israeli military sale to G...</td>\n",
       "      <td>b'An American citizen living in S.Ossetia blam...</td>\n",
       "      <td>...</td>\n",
       "      <td>b'Israel and the US behind the Georgian aggres...</td>\n",
       "      <td>b'\"Do not believe TV, neither Russian nor Geor...</td>\n",
       "      <td>b'Riots are still going on in Montreal (Canada...</td>\n",
       "      <td>b'China to overtake US as largest manufacturer'</td>\n",
       "      <td>b'War in South Ossetia [PICS]'</td>\n",
       "      <td>b'Israeli Physicians Group Condemns State Tort...</td>\n",
       "      <td>b' Russia has just beaten the United States ov...</td>\n",
       "      <td>b'Perhaps *the* question about the Georgia - R...</td>\n",
       "      <td>b'Russia is so much better at war'</td>\n",
       "      <td>b\"So this is what it's come to: trading sex fo...</td>\n",
       "    </tr>\n",
       "  </tbody>\n",
       "</table>\n",
       "<p>2 rows × 27 columns</p>\n",
       "</div>"
      ],
      "text/plain": [
       "         Date  Label                                               Top1  \\\n",
       "0  2008-08-08      0  b\"Georgia 'downs two Russian warplanes' as cou...   \n",
       "1  2008-08-11      1  b'Why wont America and Nato help us? If they w...   \n",
       "\n",
       "                                          Top2  \\\n",
       "0      b'BREAKING: Musharraf to be impeached.'   \n",
       "1  b'Bush puts foot down on Georgian conflict'   \n",
       "\n",
       "                                                Top3  \\\n",
       "0  b'Russia Today: Columns of troops roll into So...   \n",
       "1  b\"Jewish Georgian minister: Thanks to Israeli ...   \n",
       "\n",
       "                                                Top4  \\\n",
       "0  b'Russian tanks are moving towards the capital...   \n",
       "1  b'Georgian army flees in disarray as Russians ...   \n",
       "\n",
       "                                                Top5  \\\n",
       "0  b\"Afghan children raped with 'impunity,' U.N. ...   \n",
       "1      b\"Olympic opening ceremony fireworks 'faked'\"   \n",
       "\n",
       "                                                Top6  \\\n",
       "0  b'150 Russian tanks have entered South Ossetia...   \n",
       "1  b'What were the Mossad with fraudulent New Zea...   \n",
       "\n",
       "                                                Top7  \\\n",
       "0  b\"Breaking: Georgia invades South Ossetia, Rus...   \n",
       "1  b'Russia angered by Israeli military sale to G...   \n",
       "\n",
       "                                                Top8  \\\n",
       "0  b\"The 'enemy combatent' trials are nothing but...   \n",
       "1  b'An American citizen living in S.Ossetia blam...   \n",
       "\n",
       "                         ...                          \\\n",
       "0                        ...                           \n",
       "1                        ...                           \n",
       "\n",
       "                                               Top16  \\\n",
       "0  b'Georgia Invades South Ossetia - if Russia ge...   \n",
       "1  b'Israel and the US behind the Georgian aggres...   \n",
       "\n",
       "                                               Top17  \\\n",
       "0                b'Al-Qaeda Faces Islamist Backlash'   \n",
       "1  b'\"Do not believe TV, neither Russian nor Geor...   \n",
       "\n",
       "                                               Top18  \\\n",
       "0  b'Condoleezza Rice: \"The US would not act to p...   \n",
       "1  b'Riots are still going on in Montreal (Canada...   \n",
       "\n",
       "                                               Top19  \\\n",
       "0  b'This is a busy day:  The European Union has ...   \n",
       "1    b'China to overtake US as largest manufacturer'   \n",
       "\n",
       "                                               Top20  \\\n",
       "0  b\"Georgia will withdraw 1,000 soldiers from Ir...   \n",
       "1                     b'War in South Ossetia [PICS]'   \n",
       "\n",
       "                                               Top21  \\\n",
       "0  b'Why the Pentagon Thinks Attacking Iran is a ...   \n",
       "1  b'Israeli Physicians Group Condemns State Tort...   \n",
       "\n",
       "                                               Top22  \\\n",
       "0  b'Caucasus in crisis: Georgia invades South Os...   \n",
       "1  b' Russia has just beaten the United States ov...   \n",
       "\n",
       "                                               Top23  \\\n",
       "0  b'Indian shoe manufactory  - And again in a se...   \n",
       "1  b'Perhaps *the* question about the Georgia - R...   \n",
       "\n",
       "                                               Top24  \\\n",
       "0  b'Visitors Suffering from Mental Illnesses Ban...   \n",
       "1                 b'Russia is so much better at war'   \n",
       "\n",
       "                                               Top25  \n",
       "0           b\"No Help for Mexico's Kidnapping Surge\"  \n",
       "1  b\"So this is what it's come to: trading sex fo...  \n",
       "\n",
       "[2 rows x 27 columns]"
      ]
     },
     "execution_count": 4,
     "metadata": {},
     "output_type": "execute_result"
    }
   ],
   "source": [
    "data_inp.head(2)"
   ]
  },
  {
   "cell_type": "markdown",
   "metadata": {},
   "source": [
    "## Получаем дополнительные признаки"
   ]
  },
  {
   "cell_type": "code",
   "execution_count": 5,
   "metadata": {},
   "outputs": [],
   "source": [
    "l = [\"Top{}\".format(i) for i in range(1, 28)]\n",
    "data_inp['text'] = data_inp.loc[:,l].astype(str).sum(axis=1)"
   ]
  },
  {
   "cell_type": "markdown",
   "metadata": {},
   "source": [
    "#### Длина текстов в символах"
   ]
  },
  {
   "cell_type": "code",
   "execution_count": 6,
   "metadata": {},
   "outputs": [],
   "source": [
    "data_raw = data_inp.loc[:, ['Date', 'Label', 'text']]\n",
    "data_raw.dropna(how='any', inplace=True)\n",
    "data_raw['length'] = data_raw.text.apply(lambda x: len(x))"
   ]
  },
  {
   "cell_type": "markdown",
   "metadata": {},
   "source": [
    "#### Длина текстов в словах"
   ]
  },
  {
   "cell_type": "code",
   "execution_count": 7,
   "metadata": {},
   "outputs": [],
   "source": [
    "data_raw['word_count'] = data_raw.text.apply(lambda x: len(x.split()))"
   ]
  },
  {
   "cell_type": "markdown",
   "metadata": {},
   "source": [
    "#### Важные имена и названия"
   ]
  },
  {
   "cell_type": "code",
   "execution_count": 8,
   "metadata": {},
   "outputs": [],
   "source": [
    "re_america = 'USA |U.S.A. |America|U.S. |US |United States'\n",
    "data_raw['america'] = data_raw.text.apply(lambda x: len(re.findall(re_america, x)))"
   ]
  },
  {
   "cell_type": "code",
   "execution_count": 9,
   "metadata": {},
   "outputs": [],
   "source": [
    "re_obama = 'Obama'\n",
    "data_raw['obama'] = data_raw.text.apply(lambda x: len(re.findall(re_obama, x)))"
   ]
  },
  {
   "cell_type": "code",
   "execution_count": 10,
   "metadata": {},
   "outputs": [],
   "source": [
    "re_russia = 'Putin|Russia'\n",
    "data_raw['russia'] = data_raw.text.apply(lambda x: len(re.findall(re_russia, x)))"
   ]
  },
  {
   "cell_type": "code",
   "execution_count": 11,
   "metadata": {},
   "outputs": [],
   "source": [
    "re_isis = ' isis | ISIS '\n",
    "data_raw['isis'] = data_raw.text.apply(lambda x: len(re.findall(re_isis, x)))"
   ]
  },
  {
   "cell_type": "markdown",
   "metadata": {},
   "source": [
    "#### Темы кризисов (наивный анализ)"
   ]
  },
  {
   "cell_type": "code",
   "execution_count": 12,
   "metadata": {},
   "outputs": [
    {
     "data": {
      "text/plain": [
       "0                                           [Caucasus in]\n",
       "4                                   [forecast Georgian, ]\n",
       "29                                     [AIDS treatment, ]\n",
       "31                            [the market, , Wall Street]\n",
       "33                            [a Financial, the economic]\n",
       "37                                              [and a, ]\n",
       "38                                          [German bank]\n",
       "39                               [ financial, , from the]\n",
       "42                          [World economic, the climate]\n",
       "43                                           [warns of, ]\n",
       "44                           [dwarfs bank, Pakistan in, ]\n",
       "45                     [current financial, the Financial]\n",
       "46                                    [Global Economic, ]\n",
       "50                                      [world financial]\n",
       "54      [worst food, , Iceland as, , largest financial...\n",
       "55                                 [of currency, ,  as, ]\n",
       "56                                           [peak oil, ]\n",
       "60                                                     []\n",
       "70                                   [global financial, ]\n",
       "72                                                     []\n",
       "73                                              [of food]\n",
       "74                                     [the humanitarian]\n",
       "75                                      [Zimbabwe Health]\n",
       "76                                                     []\n",
       "87                                     [claims Cholera, ]\n",
       "90                                       [on Financial, ]\n",
       "96                                         [The economic]\n",
       "98                                         [the economic]\n",
       "103                                   [no humanitarian, ]\n",
       "104                                  [blown humanitarian]\n",
       "                              ...                        \n",
       "1864                              [regional diplomatic, ]\n",
       "1868                                         [in Refugee]\n",
       "1869                               [December 2003Migrant]\n",
       "1871                                     [their budget, ]\n",
       "1875                                                   []\n",
       "1876     [the migrant, , the refugee, Epidemic Reaches, ]\n",
       "1878                                    [exploit refugee]\n",
       "1879                                     [over refugee, ]\n",
       "1880                                           [ Migrant]\n",
       "1881                            [dataFukushima nuclear, ]\n",
       "1891                                          [and the, ]\n",
       "1893                                          [to tackle]\n",
       "1897                                   [potential food, ]\n",
       "1903                                         [ refugee, ]\n",
       "1904                                        [time of, , ]\n",
       "1907                                          [a legal, ]\n",
       "1908                              [government spyMigrant]\n",
       "1915                                 [mounting political]\n",
       "1917                                        [as economic]\n",
       "1933                                    [fresh financial]\n",
       "1938                                     [Barrier Reef, ]\n",
       "1942                                          [off power]\n",
       "1946                                      [the Financial]\n",
       "1949                                        [reached a, ]\n",
       "1960                                       [worst food, ]\n",
       "1964                                    [coral bleaching]\n",
       "1965                                 [267 yearsMigrant, ]\n",
       "1975                                  [ongoing political]\n",
       "1979                                       [s dementia, ]\n",
       "1988                                             [have a]\n",
       "Name: text, Length: 408, dtype: object"
      ]
     },
     "execution_count": 12,
     "metadata": {},
     "output_type": "execute_result"
    }
   ],
   "source": [
    "re_crisis = '(?<=[Cc]risis )\\w*\\s\\w*|(\\w*\\s\\w*(?= [Cc]risis))'\n",
    "a = data_raw.text.apply(lambda x: re.findall(re_crisis, x))\n",
    "a[a.apply(lambda x: len(x)) > 0]"
   ]
  },
  {
   "cell_type": "markdown",
   "metadata": {},
   "source": [
    "Мы получили слова, сопутствующие слову \"crisis\", что позволит составить примерное представление, о каких кризисах идет речь в статьях. Всего те или иные кризисы упоминаются статьях за 408 дней из всей выборки, так что рассматривать каждое вхождение не представляется возможным. При поверхностном рассмотрении представляется, что часто упоминаются финансовые/рыночные/экономические кризисы, кризисы связанные с климатом, здравоохранением и миграцией. "
   ]
  },
  {
   "cell_type": "code",
   "execution_count": 13,
   "metadata": {},
   "outputs": [
    {
     "data": {
      "text/html": [
       "<div>\n",
       "<style>\n",
       "    .dataframe thead tr:only-child th {\n",
       "        text-align: right;\n",
       "    }\n",
       "\n",
       "    .dataframe thead th {\n",
       "        text-align: left;\n",
       "    }\n",
       "\n",
       "    .dataframe tbody tr th {\n",
       "        vertical-align: top;\n",
       "    }\n",
       "</style>\n",
       "<table border=\"1\" class=\"dataframe\">\n",
       "  <thead>\n",
       "    <tr style=\"text-align: right;\">\n",
       "      <th></th>\n",
       "      <th>Date</th>\n",
       "      <th>Label</th>\n",
       "      <th>text</th>\n",
       "      <th>length</th>\n",
       "      <th>word_count</th>\n",
       "      <th>america</th>\n",
       "      <th>obama</th>\n",
       "      <th>russia</th>\n",
       "      <th>isis</th>\n",
       "    </tr>\n",
       "  </thead>\n",
       "  <tbody>\n",
       "    <tr>\n",
       "      <th>0</th>\n",
       "      <td>2008-08-08</td>\n",
       "      <td>0</td>\n",
       "      <td>b\"Georgia 'downs two Russian warplanes' as cou...</td>\n",
       "      <td>2348</td>\n",
       "      <td>350</td>\n",
       "      <td>5</td>\n",
       "      <td>0</td>\n",
       "      <td>10</td>\n",
       "      <td>0</td>\n",
       "    </tr>\n",
       "    <tr>\n",
       "      <th>1</th>\n",
       "      <td>2008-08-11</td>\n",
       "      <td>1</td>\n",
       "      <td>b'Why wont America and Nato help us? If they w...</td>\n",
       "      <td>1649</td>\n",
       "      <td>249</td>\n",
       "      <td>8</td>\n",
       "      <td>0</td>\n",
       "      <td>9</td>\n",
       "      <td>0</td>\n",
       "    </tr>\n",
       "    <tr>\n",
       "      <th>2</th>\n",
       "      <td>2008-08-12</td>\n",
       "      <td>0</td>\n",
       "      <td>b'Remember that adorable 9-year-old who sang a...</td>\n",
       "      <td>2143</td>\n",
       "      <td>327</td>\n",
       "      <td>8</td>\n",
       "      <td>0</td>\n",
       "      <td>9</td>\n",
       "      <td>0</td>\n",
       "    </tr>\n",
       "  </tbody>\n",
       "</table>\n",
       "</div>"
      ],
      "text/plain": [
       "         Date  Label                                               text  \\\n",
       "0  2008-08-08      0  b\"Georgia 'downs two Russian warplanes' as cou...   \n",
       "1  2008-08-11      1  b'Why wont America and Nato help us? If they w...   \n",
       "2  2008-08-12      0  b'Remember that adorable 9-year-old who sang a...   \n",
       "\n",
       "   length  word_count  america  obama  russia  isis  \n",
       "0    2348         350        5      0      10     0  \n",
       "1    1649         249        8      0       9     0  \n",
       "2    2143         327        8      0       9     0  "
      ]
     },
     "execution_count": 13,
     "metadata": {},
     "output_type": "execute_result"
    }
   ],
   "source": [
    "data_raw.head(3)"
   ]
  },
  {
   "cell_type": "markdown",
   "metadata": {},
   "source": [
    "### Предварительный анализ"
   ]
  },
  {
   "cell_type": "code",
   "execution_count": 14,
   "metadata": {},
   "outputs": [
    {
     "name": "stdout",
     "output_type": "stream",
     "text": [
      "Всего упоминаний России и Путина: 3648\n"
     ]
    }
   ],
   "source": [
    "print(\"Всего упоминаний России и Путина: {}\".format(data_raw.russia.sum()))"
   ]
  },
  {
   "cell_type": "code",
   "execution_count": 15,
   "metadata": {},
   "outputs": [
    {
     "name": "stdout",
     "output_type": "stream",
     "text": [
      "Всего упоминаний запрещенной законом РФ организации: 257\n"
     ]
    }
   ],
   "source": [
    "print(\"Всего упоминаний запрещенной законом РФ организации: {}\".format(data_raw.isis.sum()))"
   ]
  },
  {
   "cell_type": "markdown",
   "metadata": {},
   "source": [
    "Посмотрим, есть связь между упоминанием США и Обамы и состоянием индекса Доу-Джонса. Для этого используем тест Стьюдента."
   ]
  },
  {
   "cell_type": "code",
   "execution_count": 16,
   "metadata": {},
   "outputs": [
    {
     "name": "stdout",
     "output_type": "stream",
     "text": [
      "Связь упоминаний США и DJIA: p=0.923\n"
     ]
    }
   ],
   "source": [
    "print(\"Связь упоминаний США и DJIA: p={:.3f}\".format(\n",
    "    scipy.stats.ttest_ind(data_raw[data_raw.Label==0].america,\n",
    "                      data_raw[data_raw.Label==1].america,\n",
    "                      equal_var=False)[1]))"
   ]
  },
  {
   "cell_type": "code",
   "execution_count": 17,
   "metadata": {},
   "outputs": [
    {
     "name": "stdout",
     "output_type": "stream",
     "text": [
      "Связь упоминаний Обамы и DJIA: p=0.618\n"
     ]
    }
   ],
   "source": [
    "print(\"Связь упоминаний Обамы и DJIA: p={:.3f}\".format(\n",
    "    scipy.stats.ttest_ind(data_raw[data_raw.Label==0].obama,\n",
    "                      data_raw[data_raw.Label==1].obama,\n",
    "                      equal_var=False)[1]))"
   ]
  },
  {
   "cell_type": "code",
   "execution_count": 18,
   "metadata": {},
   "outputs": [
    {
     "name": "stdout",
     "output_type": "stream",
     "text": [
      "Связь упоминаний России и DJIA: p=0.981\n"
     ]
    }
   ],
   "source": [
    "print(\"Связь упоминаний России и DJIA: p={:.3f}\".format(\n",
    "    scipy.stats.ttest_ind(data_raw[data_raw.Label==0].russia,\n",
    "                      data_raw[data_raw.Label==1].russia,\n",
    "                      equal_var=False)[1]))"
   ]
  },
  {
   "cell_type": "code",
   "execution_count": 19,
   "metadata": {},
   "outputs": [
    {
     "name": "stdout",
     "output_type": "stream",
     "text": [
      "Связь упоминаний запрещенной законом РФ организации и DJIA: p=0.876\n"
     ]
    }
   ],
   "source": [
    "print(\"Связь упоминаний запрещенной законом РФ организации и DJIA: p={:.3f}\".format(\n",
    "    scipy.stats.ttest_ind(data_raw[data_raw.Label==0].isis,\n",
    "                      data_raw[data_raw.Label==1].isis,\n",
    "                      equal_var=False)[1]))"
   ]
  },
  {
   "cell_type": "code",
   "execution_count": 20,
   "metadata": {},
   "outputs": [
    {
     "data": {
      "image/png": "[encoded data removed]",
      "text/plain": [
       "<matplotlib.figure.Figure at 0x2a239970dd8>"
      ]
     },
     "metadata": {},
     "output_type": "display_data"
    }
   ],
   "source": [
    "data_raw.groupby('Label')['america', 'obama', 'russia', 'isis'].mean().plot(kind='bar')\n",
    "plt.xlabel('Label')\n",
    "plt.ylabel('Упоминаний на статью')\n",
    "plt.suptitle('Среднее количество упоминаний разных тем \\\n",
    "в дни с ростом и падением DJIA',fontsize=14, fontweight='bold');"
   ]
  },
  {
   "cell_type": "markdown",
   "metadata": {},
   "source": [
    "По результатам применения т-теста можно заключить, что на дни, в которые отмечался рост и падения DJIA приходится в среднем одинаковое число упоминаний выделенных тем. Визуальный анализ согласуется с этим выводом."
   ]
  },
  {
   "cell_type": "markdown",
   "metadata": {},
   "source": [
    "## Модель 1 - базовая модель"
   ]
  },
  {
   "cell_type": "code",
   "execution_count": 21,
   "metadata": {},
   "outputs": [],
   "source": [
    "def evaluate(y_true, y_pred):\n",
    "    print(\"Accuracy: {}\".format(metrics.accuracy_score(y_true, y_pred)))\n",
    "    print(metrics.classification_report(y_true, y_pred))"
   ]
  },
  {
   "cell_type": "code",
   "execution_count": 22,
   "metadata": {},
   "outputs": [
    {
     "name": "stdout",
     "output_type": "stream",
     "text": [
      "train: 1611, test: 378\n",
      "распределение классов в обучающей выборке:\n",
      "1    873\n",
      "0    738\n",
      "Name: Label, dtype: int64\n"
     ]
    }
   ],
   "source": [
    "train = data_raw[data_raw['Date'] < '2015-01-01']\n",
    "test = data_raw[data_raw['Date'] > '2014-12-31']\n",
    "print('train: {}, test: {}'.format(len(train), len(test)))\n",
    "print('распределение классов в обучающей выборке:\\n{}'.format(train.Label.value_counts()))"
   ]
  },
  {
   "cell_type": "code",
   "execution_count": 23,
   "metadata": {},
   "outputs": [],
   "source": [
    "dep = 'Label'\n",
    "y_train = train[dep]\n",
    "y_test = test[dep]\n",
    "X_train = train.text\n",
    "X_test = test.text"
   ]
  },
  {
   "cell_type": "markdown",
   "metadata": {},
   "source": [
    "Предсказание состояния рынка - крайне прохладная история."
   ]
  },
  {
   "cell_type": "markdown",
   "metadata": {},
   "source": [
    "Высокой точности предсказания ожидать не приходится, и нам нужен критерий, позволяющий понять, дает ли полученная модель результаты лучше случайного угадывания, чтобы не переоценить результаты своей работы (это важно, ведь предмет исследования обязывает предпложить, что такая модель может, хотя бы теоретически, использоваться для реальной торговли на бирже). "
   ]
  },
  {
   "cell_type": "markdown",
   "metadata": {},
   "source": [
    "В качестве базового критерия построим наивную модель, суть которой в том, чтобы случайно распределить лейблы в пропорции, соотвествующей их распределению в обучающем периоде. "
   ]
  },
  {
   "cell_type": "code",
   "execution_count": 24,
   "metadata": {},
   "outputs": [
    {
     "name": "stdout",
     "output_type": "stream",
     "text": [
      "Test naive:\n",
      "Accuracy: 0.5370370370370371\n",
      "             precision    recall  f1-score   support\n",
      "\n",
      "          0       0.53      0.47      0.50       186\n",
      "          1       0.54      0.60      0.57       192\n",
      "\n",
      "avg / total       0.54      0.54      0.53       378\n",
      "\n"
     ]
    }
   ],
   "source": [
    "np.random.seed(1) \n",
    "y_naive = np.random.choice([0, 1], size=(len(test),), p=[738./1611, 873./1611])\n",
    "print('Test naive:')\n",
    "evaluate(y_test, y_naive)"
   ]
  },
  {
   "cell_type": "markdown",
   "metadata": {},
   "source": [
    "Используем линейную регрессию и векторайзер с параметрами по умолчанию"
   ]
  },
  {
   "cell_type": "code",
   "execution_count": 25,
   "metadata": {},
   "outputs": [
    {
     "name": "stdout",
     "output_type": "stream",
     "text": [
      "1611 наблюдений, 46392 признаков\n",
      "Wall time: 2.62 s\n"
     ]
    }
   ],
   "source": [
    "%%time\n",
    "vectorizer1 = CountVectorizer(ngram_range=(1, 1),\n",
    "                             lowercase=True,\n",
    "                             analyzer = 'word')\n",
    "\n",
    "data_train = vectorizer1.fit_transform(X_train)\n",
    "data_test = vectorizer1.transform(X_test)\n",
    "print('{} наблюдений, {} признаков'.format(data_train.shape[0], data_train.shape[1]))"
   ]
  },
  {
   "cell_type": "code",
   "execution_count": 26,
   "metadata": {},
   "outputs": [
    {
     "name": "stdout",
     "output_type": "stream",
     "text": [
      "Train:\n",
      "Accuracy: 1.0\n",
      "             precision    recall  f1-score   support\n",
      "\n",
      "          0       1.00      1.00      1.00       738\n",
      "          1       1.00      1.00      1.00       873\n",
      "\n",
      "avg / total       1.00      1.00      1.00      1611\n",
      "\n",
      "Test:\n",
      "Accuracy: 0.43386243386243384\n",
      "             precision    recall  f1-score   support\n",
      "\n",
      "          0       0.41      0.35      0.38       186\n",
      "          1       0.45      0.52      0.48       192\n",
      "\n",
      "avg / total       0.43      0.43      0.43       378\n",
      "\n",
      "Wall time: 1.05 s\n"
     ]
    }
   ],
   "source": [
    "%%time\n",
    "lr1 = LogisticRegression()\n",
    "lr1.fit(data_train, y_train)\n",
    "\n",
    "print('Train:')\n",
    "train_pred = lr1.predict(data_train)\n",
    "evaluate(y_train, train_pred)\n",
    "\n",
    "print('Test:')\n",
    "test_pred = lr1.predict(data_test)\n",
    "evaluate(y_test, test_pred)"
   ]
  },
  {
   "cell_type": "markdown",
   "metadata": {},
   "source": [
    "Модель показывает результат даже хуже случайного угадывания"
   ]
  },
  {
   "cell_type": "markdown",
   "metadata": {},
   "source": [
    "## Модель 2 - добавляем лемматизацию"
   ]
  },
  {
   "cell_type": "markdown",
   "metadata": {},
   "source": [
    "Чтобы повысить точность модели, используем лемматизацию, то есть приведем слова к начальной форме. Предварительно удалим знаки и технические символы. Поскольку при настройках по умолчанию алгоритм лемматизации уничтожит сокращения вроде *US* или *U.S.A.*, а эти слова очень важны для рассматриваемой тематики, учтем это в функции. "
   ]
  },
  {
   "cell_type": "code",
   "execution_count": 27,
   "metadata": {},
   "outputs": [],
   "source": [
    "def cleanse(s):\n",
    "    rgxp = '[\\`\\)\\(\\|©~^<>/\\'\\\"\\«№#$&\\*.,;=+?!\\—_@:\\]\\[%\\{\\}\\\\n]'\n",
    "    return re.sub(' +', ' ', re.sub(rgxp, ' ', s.lower()))"
   ]
  },
  {
   "cell_type": "code",
   "execution_count": 28,
   "metadata": {},
   "outputs": [],
   "source": [
    "def lemmatize(string, perform=True, pos='n', save_terms=[]): \n",
    "    if not perform:\n",
    "        return string\n",
    "    lemm = WordNetLemmatizer()\n",
    "    text_n = [lemm.lemmatize(w, pos=pos) if w not in save_terms else w\n",
    "              for w in word_tokenize(cleanse(string))]\n",
    "    return ' '.join(text_n)"
   ]
  },
  {
   "cell_type": "code",
   "execution_count": 29,
   "metadata": {},
   "outputs": [
    {
     "name": "stderr",
     "output_type": "stream",
     "text": [
      "Lemmatizer N: 100%|████████████████████████████████████████████████████████████████| 1989/1989 [00:20<00:00, 94.72it/s]\n",
      "Lemmatizer V: 100%|███████████████████████████████████████████████████████████████| 1989/1989 [00:18<00:00, 110.16it/s]\n",
      "Lemmatizer A: 100%|███████████████████████████████████████████████████████████████| 1989/1989 [00:15<00:00, 126.64it/s]\n"
     ]
    },
    {
     "name": "stdout",
     "output_type": "stream",
     "text": [
      "Wall time: 55.2 s\n"
     ]
    }
   ],
   "source": [
    "%%time\n",
    "data_lem = data_raw.copy()\n",
    "for p in ['n', 'v', 'a']:\n",
    "    tqdm.pandas(desc=\"Lemmatizer \" + p.upper())\n",
    "    data_lem.text = data_lem.text.progress_apply(lemmatize, \n",
    "                                                 perform=True, \n",
    "                                                 pos=p, save_terms=['us', 'usa', \n",
    "                                                                    'u.s.', 'u.s.a.', \n",
    "                                                                    'u.s', 'u.s.a']\n",
    "                                                ).apply(lambda x: re.sub('^b','',x))"
   ]
  },
  {
   "cell_type": "code",
   "execution_count": 30,
   "metadata": {},
   "outputs": [
    {
     "data": {
      "text/plain": [
       "'why wont america and nato help us if they wont help us now why do we help them in iraq b bush put foot down on georgian conflict b jewish georgian minister thank to israeli train we re fend off russia b georgian army flee in disarray a russian advance - gori abandon to russia without a shoot fire b olympic open ceremony firework fake b what be the mossad with fraudulent new zealand passport do in iraq b russia anger by israeli military sale to georgia b an american citizen live in s ossetia blam'"
      ]
     },
     "execution_count": 30,
     "metadata": {},
     "output_type": "execute_result"
    }
   ],
   "source": [
    "data_lem.text[1][:500]"
   ]
  },
  {
   "cell_type": "markdown",
   "metadata": {},
   "source": [
    "Заметно, что реализованный нами простой алгоритм лемматизации повреждает многие слова, особенно это касается служебных частей речи. К счастью, такие слова все равно скорее всего не будут значимыми признаками, так как присутствуют во всех текстах в большом количестве. "
   ]
  },
  {
   "cell_type": "markdown",
   "metadata": {},
   "source": [
    "Построим модель с теми же параметрами векторайзера и посмотрим на результаты. "
   ]
  },
  {
   "cell_type": "code",
   "execution_count": 31,
   "metadata": {},
   "outputs": [],
   "source": [
    "train = data_lem[data_lem['Date'] < '2015-01-01']\n",
    "test = data_lem[data_lem['Date'] > '2014-12-31']\n",
    "\n",
    "y_train = train[dep]\n",
    "y_test = test[dep]\n",
    "X_train = train.text\n",
    "X_test = test.text"
   ]
  },
  {
   "cell_type": "code",
   "execution_count": 32,
   "metadata": {},
   "outputs": [
    {
     "name": "stdout",
     "output_type": "stream",
     "text": [
      "1611 наблюдений, 38667 признаков\n",
      "Wall time: 1.62 s\n"
     ]
    }
   ],
   "source": [
    "%%time\n",
    "data_train = vectorizer1.fit_transform(X_train)\n",
    "data_test = vectorizer1.transform(X_test)\n",
    "print('{} наблюдений, {} признаков'.format(data_train.shape[0], data_train.shape[1]))"
   ]
  },
  {
   "cell_type": "code",
   "execution_count": 33,
   "metadata": {},
   "outputs": [
    {
     "name": "stdout",
     "output_type": "stream",
     "text": [
      "Train:\n",
      "Accuracy: 1.0\n",
      "             precision    recall  f1-score   support\n",
      "\n",
      "          0       1.00      1.00      1.00       738\n",
      "          1       1.00      1.00      1.00       873\n",
      "\n",
      "avg / total       1.00      1.00      1.00      1611\n",
      "\n",
      "Test:\n",
      "Accuracy: 0.48677248677248675\n",
      "             precision    recall  f1-score   support\n",
      "\n",
      "          0       0.47      0.34      0.40       186\n",
      "          1       0.50      0.62      0.55       192\n",
      "\n",
      "avg / total       0.48      0.49      0.48       378\n",
      "\n",
      "Wall time: 845 ms\n"
     ]
    }
   ],
   "source": [
    "%%time\n",
    "lr2 = LogisticRegression()\n",
    "lr2.fit(data_train, y_train)\n",
    "\n",
    "print('Train:')\n",
    "train_pred = lr2.predict(data_train)\n",
    "evaluate(y_train, train_pred)\n",
    "\n",
    "print('Test:')\n",
    "test_pred = lr2.predict(data_test)\n",
    "evaluate(y_test, test_pred)"
   ]
  },
  {
   "cell_type": "markdown",
   "metadata": {},
   "source": [
    "Лемматизация повышает точность модели на тестовом периоде, однако она всё еще не лучше наивной модели (случайной расстановки лейблов). "
   ]
  },
  {
   "cell_type": "markdown",
   "metadata": {},
   "source": [
    "## Модель 3 - биграммы"
   ]
  },
  {
   "cell_type": "markdown",
   "metadata": {},
   "source": [
    "Изменим параметры векторайзера. В частности, вместо отдельных слов будем использовать биграммы. "
   ]
  },
  {
   "cell_type": "code",
   "execution_count": 34,
   "metadata": {},
   "outputs": [
    {
     "name": "stdout",
     "output_type": "stream",
     "text": [
      "1611 наблюдений, 339697 признаков\n",
      "Wall time: 4.89 s\n"
     ]
    }
   ],
   "source": [
    "%%time\n",
    "vectorizer2 = CountVectorizer(ngram_range=(2, 2),\n",
    "                             lowercase=True,\n",
    "                             analyzer = 'word')\n",
    "\n",
    "data_train = vectorizer2.fit_transform(X_train)\n",
    "data_test = vectorizer2.transform(X_test)\n",
    "print('{} наблюдений, {} признаков'.format(data_train.shape[0], data_train.shape[1]))"
   ]
  },
  {
   "cell_type": "code",
   "execution_count": 35,
   "metadata": {},
   "outputs": [
    {
     "name": "stdout",
     "output_type": "stream",
     "text": [
      "Train:\n",
      "Accuracy: 1.0\n",
      "             precision    recall  f1-score   support\n",
      "\n",
      "          0       1.00      1.00      1.00       738\n",
      "          1       1.00      1.00      1.00       873\n",
      "\n",
      "avg / total       1.00      1.00      1.00      1611\n",
      "\n",
      "Test:\n",
      "Accuracy: 0.5714285714285714\n",
      "             precision    recall  f1-score   support\n",
      "\n",
      "          0       0.60      0.39      0.47       186\n",
      "          1       0.56      0.75      0.64       192\n",
      "\n",
      "avg / total       0.58      0.57      0.56       378\n",
      "\n",
      "Wall time: 1.16 s\n"
     ]
    }
   ],
   "source": [
    "%%time\n",
    "lr3 = LogisticRegression()\n",
    "lr3.fit(data_train, y_train)\n",
    "\n",
    "print('Train:')\n",
    "train_pred = lr3.predict(data_train)\n",
    "evaluate(y_train, train_pred)\n",
    "\n",
    "print('Test:')\n",
    "test_pred = lr3.predict(data_test)\n",
    "evaluate(y_test, test_pred)"
   ]
  },
  {
   "cell_type": "markdown",
   "metadata": {},
   "source": [
    "Видим, что это первая из созданных моделей, дающая более качественный прогноз, чем наивная модель, хотя вопрос о том, насколько значимо это различие, остается открытым. "
   ]
  },
  {
   "cell_type": "markdown",
   "metadata": {},
   "source": [
    "## Модель 4 - tf.idf"
   ]
  },
  {
   "cell_type": "markdown",
   "metadata": {},
   "source": [
    "Также добавим интуитивно подходящие параметры *min_df* и *max_df*, чтобы исключить редкие слова и слова с опечатками. Кажется, что здесь мы нарушаем \"главное правило радиотехника\", но \"за кадром\" были проведены опыты, из которых стало ясно, что использование отличных от дефолтных параметров даёт лучший результат. Описание этих опытов опущено исключительно для компактности изложения."
   ]
  },
  {
   "cell_type": "code",
   "execution_count": 36,
   "metadata": {},
   "outputs": [
    {
     "name": "stdout",
     "output_type": "stream",
     "text": [
      "1611 наблюдений, 314 признаков\n",
      "Wall time: 4.84 s\n"
     ]
    }
   ],
   "source": [
    "%%time\n",
    "vectorizer3 = TfidfVectorizer(ngram_range=(2, 2),\n",
    "                             lowercase=True,\n",
    "                             analyzer = 'word', \n",
    "                             min_df = 0.05, \n",
    "                             max_df = 0.95)\n",
    "\n",
    "data_train = vectorizer3.fit_transform(X_train)\n",
    "data_test = vectorizer3.transform(X_test)\n",
    "print('{} наблюдений, {} признаков'.format(data_train.shape[0], data_train.shape[1]))"
   ]
  },
  {
   "cell_type": "code",
   "execution_count": 37,
   "metadata": {},
   "outputs": [
    {
     "name": "stdout",
     "output_type": "stream",
     "text": [
      "Train:\n",
      "Accuracy: 0.686530105524519\n",
      "             precision    recall  f1-score   support\n",
      "\n",
      "          0       0.70      0.54      0.61       738\n",
      "          1       0.68      0.81      0.74       873\n",
      "\n",
      "avg / total       0.69      0.69      0.68      1611\n",
      "\n",
      "Test:\n",
      "Accuracy: 0.5634920634920635\n",
      "             precision    recall  f1-score   support\n",
      "\n",
      "          0       0.58      0.40      0.47       186\n",
      "          1       0.55      0.72      0.63       192\n",
      "\n",
      "avg / total       0.57      0.56      0.55       378\n",
      "\n",
      "Wall time: 60 ms\n"
     ]
    }
   ],
   "source": [
    "%%time\n",
    "lr4 = LogisticRegression()\n",
    "lr4.fit(data_train, y_train)\n",
    "\n",
    "print('Train:')\n",
    "train_pred = lr4.predict(data_train)\n",
    "evaluate(y_train, train_pred)\n",
    "\n",
    "print('Test:')\n",
    "test_pred = lr4.predict(data_test)\n",
    "evaluate(y_test, test_pred)"
   ]
  },
  {
   "cell_type": "markdown",
   "metadata": {},
   "source": [
    "Видим, что использование tf.idf-векторайзера не приводит к значительному повышению качества классификации."
   ]
  },
  {
   "cell_type": "markdown",
   "metadata": {},
   "source": [
    "## Модель 5 - дополнительные признаки"
   ]
  },
  {
   "cell_type": "markdown",
   "metadata": {},
   "source": [
    "Для эксперимента попробуем построить модель, используя полученные ранее дополнительные признаки. "
   ]
  },
  {
   "cell_type": "code",
   "execution_count": 38,
   "metadata": {},
   "outputs": [],
   "source": [
    "data_train_ = train[['length', 'word_count', 'america', 'obama', 'russia', 'isis']]\n",
    "data_test_ = test[['length', 'word_count', 'america', 'obama', 'russia', 'isis']]"
   ]
  },
  {
   "cell_type": "code",
   "execution_count": 39,
   "metadata": {},
   "outputs": [
    {
     "name": "stdout",
     "output_type": "stream",
     "text": [
      "Train:\n",
      "Accuracy: 0.5418994413407822\n"
     ]
    },
    {
     "name": "stderr",
     "output_type": "stream",
     "text": [
      "c:\\users\\mytas\\appdata\\local\\programs\\python\\python36\\lib\\site-packages\\sklearn\\metrics\\classification.py:1135: UndefinedMetricWarning: Precision and F-score are ill-defined and being set to 0.0 in labels with no predicted samples.\n",
      "  'precision', 'predicted', average, warn_for)\n"
     ]
    },
    {
     "name": "stdout",
     "output_type": "stream",
     "text": [
      "             precision    recall  f1-score   support\n",
      "\n",
      "          0       0.00      0.00      0.00       738\n",
      "          1       0.54      1.00      0.70       873\n",
      "\n",
      "avg / total       0.29      0.54      0.38      1611\n",
      "\n",
      "Test:\n",
      "Accuracy: 0.5079365079365079\n",
      "             precision    recall  f1-score   support\n",
      "\n",
      "          0       0.00      0.00      0.00       186\n",
      "          1       0.51      1.00      0.67       192\n",
      "\n",
      "avg / total       0.26      0.51      0.34       378\n",
      "\n",
      "Wall time: 56.9 ms\n"
     ]
    }
   ],
   "source": [
    "%%time\n",
    "lr5 = LogisticRegression()\n",
    "lr5.fit(data_train_, y_train)\n",
    "\n",
    "print('Train:')\n",
    "train_pred = lr5.predict(data_train_)\n",
    "evaluate(y_train, train_pred)\n",
    "\n",
    "print('Test:')\n",
    "test_pred = lr5.predict(data_test_)\n",
    "evaluate(y_test, test_pred)"
   ]
  },
  {
   "cell_type": "code",
   "execution_count": 40,
   "metadata": {},
   "outputs": [
    {
     "data": {
      "text/plain": [
       "array([1, 1, 1, 1, 1, 1, 1, 1, 1, 1, 1, 1, 1, 1, 1, 1, 1, 1, 1, 1, 1, 1, 1,\n",
       "       1, 1, 1, 1, 1, 1, 1, 1, 1, 1, 1, 1, 1, 1, 1, 1, 1, 1, 1, 1, 1, 1, 1,\n",
       "       1, 1, 1, 1, 1, 1, 1, 1, 1, 1, 1, 1, 1, 1, 1, 1, 1, 1, 1, 1, 1, 1, 1,\n",
       "       1, 1, 1, 1, 1, 1, 1, 1, 1, 1, 1, 1, 1, 1, 1, 1, 1, 1, 1, 1, 1, 1, 1,\n",
       "       1, 1, 1, 1, 1, 1, 1, 1, 1, 1, 1, 1, 1, 1, 1, 1, 1, 1, 1, 1, 1, 1, 1,\n",
       "       1, 1, 1, 1, 1, 1, 1, 1, 1, 1, 1, 1, 1, 1, 1, 1, 1, 1, 1, 1, 1, 1, 1,\n",
       "       1, 1, 1, 1, 1, 1, 1, 1, 1, 1, 1, 1, 1, 1, 1, 1, 1, 1, 1, 1, 1, 1, 1,\n",
       "       1, 1, 1, 1, 1, 1, 1, 1, 1, 1, 1, 1, 1, 1, 1, 1, 1, 1, 1, 1, 1, 1, 1,\n",
       "       1, 1, 1, 1, 1, 1, 1, 1, 1, 1, 1, 1, 1, 1, 1, 1, 1, 1, 1, 1, 1, 1, 1,\n",
       "       1, 1, 1, 1, 1, 1, 1, 1, 1, 1, 1, 1, 1, 1, 1, 1, 1, 1, 1, 1, 1, 1, 1,\n",
       "       1, 1, 1, 1, 1, 1, 1, 1, 1, 1, 1, 1, 1, 1, 1, 1, 1, 1, 1, 1, 1, 1, 1,\n",
       "       1, 1, 1, 1, 1, 1, 1, 1, 1, 1, 1, 1, 1, 1, 1, 1, 1, 1, 1, 1, 1, 1, 1,\n",
       "       1, 1, 1, 1, 1, 1, 1, 1, 1, 1, 1, 1, 1, 1, 1, 1, 1, 1, 1, 1, 1, 1, 1,\n",
       "       1, 1, 1, 1, 1, 1, 1, 1, 1, 1, 1, 1, 1, 1, 1, 1, 1, 1, 1, 1, 1, 1, 1,\n",
       "       1, 1, 1, 1, 1, 1, 1, 1, 1, 1, 1, 1, 1, 1, 1, 1, 1, 1, 1, 1, 1, 1, 1,\n",
       "       1, 1, 1, 1, 1, 1, 1, 1, 1, 1, 1, 1, 1, 1, 1, 1, 1, 1, 1, 1, 1, 1, 1,\n",
       "       1, 1, 1, 1, 1, 1, 1, 1, 1, 1], dtype=int64)"
      ]
     },
     "execution_count": 40,
     "metadata": {},
     "output_type": "execute_result"
    }
   ],
   "source": [
    "test_pred"
   ]
  },
  {
   "cell_type": "markdown",
   "metadata": {},
   "source": [
    "Нетрудно видеть, что полученная модель не работает. В этом свете кажется нецелесообразным добавлять их текстовым признакам в основную модель."
   ]
  },
  {
   "cell_type": "markdown",
   "metadata": {},
   "source": [
    "## Коэффициенты"
   ]
  },
  {
   "cell_type": "markdown",
   "metadata": {},
   "source": [
    "Вернемся к наиболее успешной из полученных моделей и посмотрим на коэффициенты, чтобы понять, какие биграммы сильнее всего связаны с ростом и падением DJIA. "
   ]
  },
  {
   "cell_type": "code",
   "execution_count": 41,
   "metadata": {},
   "outputs": [
    {
     "data": {
      "text/html": [
       "<div>\n",
       "<style>\n",
       "    .dataframe thead tr:only-child th {\n",
       "        text-align: right;\n",
       "    }\n",
       "\n",
       "    .dataframe thead th {\n",
       "        text-align: left;\n",
       "    }\n",
       "\n",
       "    .dataframe tbody tr th {\n",
       "        vertical-align: top;\n",
       "    }\n",
       "</style>\n",
       "<table border=\"1\" class=\"dataframe\">\n",
       "  <thead>\n",
       "    <tr style=\"text-align: right;\">\n",
       "      <th></th>\n",
       "      <th>Coefficient</th>\n",
       "      <th>Feature</th>\n",
       "    </tr>\n",
       "  </thead>\n",
       "  <tbody>\n",
       "    <tr>\n",
       "      <th>16</th>\n",
       "      <td>1.452936</td>\n",
       "      <td>and other</td>\n",
       "    </tr>\n",
       "    <tr>\n",
       "      <th>199</th>\n",
       "      <td>1.194137</td>\n",
       "      <td>set to</td>\n",
       "    </tr>\n",
       "    <tr>\n",
       "      <th>52</th>\n",
       "      <td>1.188480</td>\n",
       "      <td>carry out</td>\n",
       "    </tr>\n",
       "    <tr>\n",
       "      <th>7</th>\n",
       "      <td>1.171781</td>\n",
       "      <td>after the</td>\n",
       "    </tr>\n",
       "    <tr>\n",
       "      <th>60</th>\n",
       "      <td>1.156497</td>\n",
       "      <td>court rule</td>\n",
       "    </tr>\n",
       "    <tr>\n",
       "      <th>99</th>\n",
       "      <td>1.068332</td>\n",
       "      <td>in china</td>\n",
       "    </tr>\n",
       "    <tr>\n",
       "      <th>90</th>\n",
       "      <td>1.044345</td>\n",
       "      <td>he be</td>\n",
       "    </tr>\n",
       "    <tr>\n",
       "      <th>122</th>\n",
       "      <td>1.035703</td>\n",
       "      <td>it ha</td>\n",
       "    </tr>\n",
       "    <tr>\n",
       "      <th>288</th>\n",
       "      <td>1.023458</td>\n",
       "      <td>use of</td>\n",
       "    </tr>\n",
       "    <tr>\n",
       "      <th>20</th>\n",
       "      <td>1.015141</td>\n",
       "      <td>arrest for</td>\n",
       "    </tr>\n",
       "    <tr>\n",
       "      <th>187</th>\n",
       "      <td>0.986333</td>\n",
       "      <td>right to</td>\n",
       "    </tr>\n",
       "    <tr>\n",
       "      <th>100</th>\n",
       "      <td>0.976099</td>\n",
       "      <td>in egypt</td>\n",
       "    </tr>\n",
       "    <tr>\n",
       "      <th>38</th>\n",
       "      <td>0.971626</td>\n",
       "      <td>be now</td>\n",
       "    </tr>\n",
       "    <tr>\n",
       "      <th>151</th>\n",
       "      <td>0.971125</td>\n",
       "      <td>number of</td>\n",
       "    </tr>\n",
       "    <tr>\n",
       "      <th>69</th>\n",
       "      <td>0.969960</td>\n",
       "      <td>during the</td>\n",
       "    </tr>\n",
       "  </tbody>\n",
       "</table>\n",
       "</div>"
      ],
      "text/plain": [
       "     Coefficient     Feature\n",
       "16      1.452936   and other\n",
       "199     1.194137      set to\n",
       "52      1.188480   carry out\n",
       "7       1.171781   after the\n",
       "60      1.156497  court rule\n",
       "99      1.068332    in china\n",
       "90      1.044345       he be\n",
       "122     1.035703       it ha\n",
       "288     1.023458      use of\n",
       "20      1.015141  arrest for\n",
       "187     0.986333    right to\n",
       "100     0.976099    in egypt\n",
       "38      0.971626      be now\n",
       "151     0.971125   number of\n",
       "69      0.969960  during the"
      ]
     },
     "execution_count": 41,
     "metadata": {},
     "output_type": "execute_result"
    }
   ],
   "source": [
    "features = vectorizer3.get_feature_names()\n",
    "coefs = lr4.coef_.tolist()[0]\n",
    "coefdf = pd.DataFrame({'Feature' : features, \n",
    "                        'Coefficient' : coefs})\n",
    "coefdf = coefdf.sort_values(['Coefficient', 'Feature'], ascending=[0, 1])\n",
    "coefdf.head(15)"
   ]
  },
  {
   "cell_type": "code",
   "execution_count": 42,
   "metadata": {},
   "outputs": [
    {
     "data": {
      "text/html": [
       "<div>\n",
       "<style>\n",
       "    .dataframe thead tr:only-child th {\n",
       "        text-align: right;\n",
       "    }\n",
       "\n",
       "    .dataframe thead th {\n",
       "        text-align: left;\n",
       "    }\n",
       "\n",
       "    .dataframe tbody tr th {\n",
       "        vertical-align: top;\n",
       "    }\n",
       "</style>\n",
       "<table border=\"1\" class=\"dataframe\">\n",
       "  <thead>\n",
       "    <tr style=\"text-align: right;\">\n",
       "      <th></th>\n",
       "      <th>Coefficient</th>\n",
       "      <th>Feature</th>\n",
       "    </tr>\n",
       "  </thead>\n",
       "  <tbody>\n",
       "    <tr>\n",
       "      <th>115</th>\n",
       "      <td>-0.796991</td>\n",
       "      <td>in russia</td>\n",
       "    </tr>\n",
       "    <tr>\n",
       "      <th>6</th>\n",
       "      <td>-0.804497</td>\n",
       "      <td>after be</td>\n",
       "    </tr>\n",
       "    <tr>\n",
       "      <th>249</th>\n",
       "      <td>-0.812303</td>\n",
       "      <td>there be</td>\n",
       "    </tr>\n",
       "    <tr>\n",
       "      <th>225</th>\n",
       "      <td>-0.832826</td>\n",
       "      <td>the last</td>\n",
       "    </tr>\n",
       "    <tr>\n",
       "      <th>64</th>\n",
       "      <td>-0.848783</td>\n",
       "      <td>death in</td>\n",
       "    </tr>\n",
       "    <tr>\n",
       "      <th>269</th>\n",
       "      <td>-0.853097</td>\n",
       "      <td>to help</td>\n",
       "    </tr>\n",
       "    <tr>\n",
       "      <th>31</th>\n",
       "      <td>-0.908623</td>\n",
       "      <td>be arrest</td>\n",
       "    </tr>\n",
       "    <tr>\n",
       "      <th>88</th>\n",
       "      <td>-0.927896</td>\n",
       "      <td>have no</td>\n",
       "    </tr>\n",
       "    <tr>\n",
       "      <th>271</th>\n",
       "      <td>-0.963156</td>\n",
       "      <td>to kill</td>\n",
       "    </tr>\n",
       "    <tr>\n",
       "      <th>139</th>\n",
       "      <td>-0.995647</td>\n",
       "      <td>member of</td>\n",
       "    </tr>\n",
       "    <tr>\n",
       "      <th>287</th>\n",
       "      <td>-1.035009</td>\n",
       "      <td>us and</td>\n",
       "    </tr>\n",
       "    <tr>\n",
       "      <th>174</th>\n",
       "      <td>-1.201369</td>\n",
       "      <td>people be</td>\n",
       "    </tr>\n",
       "    <tr>\n",
       "      <th>285</th>\n",
       "      <td>-1.207156</td>\n",
       "      <td>up in</td>\n",
       "    </tr>\n",
       "    <tr>\n",
       "      <th>19</th>\n",
       "      <td>-1.209082</td>\n",
       "      <td>around the</td>\n",
       "    </tr>\n",
       "    <tr>\n",
       "      <th>217</th>\n",
       "      <td>-1.402034</td>\n",
       "      <td>the country</td>\n",
       "    </tr>\n",
       "  </tbody>\n",
       "</table>\n",
       "</div>"
      ],
      "text/plain": [
       "     Coefficient      Feature\n",
       "115    -0.796991    in russia\n",
       "6      -0.804497     after be\n",
       "249    -0.812303     there be\n",
       "225    -0.832826     the last\n",
       "64     -0.848783     death in\n",
       "269    -0.853097      to help\n",
       "31     -0.908623    be arrest\n",
       "88     -0.927896      have no\n",
       "271    -0.963156      to kill\n",
       "139    -0.995647    member of\n",
       "287    -1.035009       us and\n",
       "174    -1.201369    people be\n",
       "285    -1.207156        up in\n",
       "19     -1.209082   around the\n",
       "217    -1.402034  the country"
      ]
     },
     "execution_count": 42,
     "metadata": {},
     "output_type": "execute_result"
    }
   ],
   "source": [
    "coefdf.tail(15)"
   ]
  },
  {
   "cell_type": "markdown",
   "metadata": {},
   "source": [
    "Видим, что содержательно проинтерпретировать коэффициенты трудно, среди них много таких, которые, кажется, не имеют ни позитивного, ни негативного смысла. Тем не менее, среди признаков с отрицательными коэффициентами встречаются несколько, касающиеся смерти и убийств (и России). "
   ]
  },
  {
   "cell_type": "markdown",
   "metadata": {},
   "source": [
    "## Заключение\n",
    "\n",
    "В результате работы была получена модель показавшая с точки зрения предсказания динамики DJIA по заголовкам популярных статей превосходство над результатом, полученным с помощью случайного угадывания. Тем не менее, точность предсказания остается очень низкой. \"За кадром\" были также проверены другие методы, такие как случайный лес и наивный байесовский классификатор. Они показали результаты хуже, чем линейная регрессия, и поэтому не были включены в отчет.\n",
    "\n",
    "Изучение результатов [https://www.kaggle.com/aaron7sun/stocknews/kernels](других пользователей Kaggle) показало, что заслуживащих внимания результатов не удалось достичь никому (в том числе и с применением сложных методов, включая различные нейросети). По крайней мере, лучший из найденных результатов составил *acc=0.59* (с использование глубокого обучения). Возможно, такую модель можно будет использовать для алгоритмической торговли с некоторой, но не высокой прибыльностью. \n",
    "\n",
    "Идеи (в дополнение к предложенным в задании) для дальнейшего повышения качества классификации и всего прочего:\n",
    "- Посмотреть, как изменяется качество предсказания на тестовой выборке при удалении периода от обучающего во времени\n",
    "- Заменить различные варианты написания важных названий и имен на один токен"
   ]
  }
 ],
 "metadata": {
  "kernelspec": {
   "display_name": "Python 3",
   "language": "python",
   "name": "python3"
  },
  "language_info": {
   "codemirror_mode": {
    "name": "ipython",
    "version": 3
   },
   "file_extension": ".py",
   "mimetype": "text/x-python",
   "name": "python",
   "nbconvert_exporter": "python",
   "pygments_lexer": "ipython3",
   "version": "3.6.2"
  }
 },
 "nbformat": 4,
 "nbformat_minor": 2
}
